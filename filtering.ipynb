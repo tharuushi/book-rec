{
  "nbformat": 4,
  "nbformat_minor": 0,
  "metadata": {
    "colab": {
      "provenance": []
    },
    "kernelspec": {
      "name": "python3",
      "display_name": "Python 3"
    },
    "language_info": {
      "name": "python"
    }
  },
  "cells": [
    {
      "cell_type": "code",
      "source": [
        "!pip install scikit-surprise\n"
      ],
      "metadata": {
        "colab": {
          "base_uri": "https://localhost:8080/"
        },
        "id": "9oi3R8lKwPzY",
        "outputId": "ec487e5a-3b84-4f1d-a2d4-34f0390586dd"
      },
      "execution_count": 1,
      "outputs": [
        {
          "output_type": "stream",
          "name": "stdout",
          "text": [
            "Requirement already satisfied: scikit-surprise in /usr/local/lib/python3.10/dist-packages (1.1.4)\n",
            "Requirement already satisfied: joblib>=1.2.0 in /usr/local/lib/python3.10/dist-packages (from scikit-surprise) (1.4.2)\n",
            "Requirement already satisfied: numpy>=1.19.5 in /usr/local/lib/python3.10/dist-packages (from scikit-surprise) (1.26.4)\n",
            "Requirement already satisfied: scipy>=1.6.0 in /usr/local/lib/python3.10/dist-packages (from scikit-surprise) (1.13.1)\n"
          ]
        }
      ]
    },
    {
      "cell_type": "code",
      "execution_count": 2,
      "metadata": {
        "id": "m9EFlUkKxD9D"
      },
      "outputs": [],
      "source": [
        "import pandas as pd\n",
        "import gdown\n",
        "from surprise import SVD, Dataset, Reader\n",
        "from surprise.model_selection import train_test_split\n",
        "from surprise import accuracy\n",
        "from sklearn.metrics import r2_score\n",
        "#content based\n",
        "import nltk\n",
        "from nltk.corpus import stopwords\n",
        "import re\n",
        "from sklearn.feature_extraction.text import TfidfVectorizer\n",
        "from sklearn.metrics.pairwise import linear_kernel, cosine_similarity\n"
      ]
    },
    {
      "cell_type": "code",
      "source": [
        "url = \"https://drive.google.com/uc?export=download&id=10IbYSLhC-4QqWnHFOUAvaAG-62BtZ14G\"\n",
        "output = \"bookdataset.csv\"\n",
        "gdown.download(url, output, quiet=False)\n"
      ],
      "metadata": {
        "colab": {
          "base_uri": "https://localhost:8080/",
          "height": 144
        },
        "id": "nhOKWLtolNpg",
        "outputId": "f450d781-3491-46fa-93a7-f103c1453d86"
      },
      "execution_count": 3,
      "outputs": [
        {
          "output_type": "stream",
          "name": "stderr",
          "text": [
            "Downloading...\n",
            "From (original): https://drive.google.com/uc?export=download&id=10IbYSLhC-4QqWnHFOUAvaAG-62BtZ14G\n",
            "From (redirected): https://drive.google.com/uc?export=download&id=10IbYSLhC-4QqWnHFOUAvaAG-62BtZ14G&confirm=t&uuid=15925d54-35ea-42b8-8a32-5b168aa78f82\n",
            "To: /content/bookdataset.csv\n",
            "100%|██████████| 88.7M/88.7M [00:00<00:00, 163MB/s]\n"
          ]
        },
        {
          "output_type": "execute_result",
          "data": {
            "text/plain": [
              "'bookdataset.csv'"
            ],
            "application/vnd.google.colaboratory.intrinsic+json": {
              "type": "string"
            }
          },
          "metadata": {},
          "execution_count": 3
        }
      ]
    },
    {
      "cell_type": "code",
      "source": [
        "data = pd.read_csv(\"bookdataset.csv\")"
      ],
      "metadata": {
        "id": "Et6cDZrOpmmQ"
      },
      "execution_count": 4,
      "outputs": []
    },
    {
      "cell_type": "code",
      "source": [
        "print(data.head())"
      ],
      "metadata": {
        "colab": {
          "base_uri": "https://localhost:8080/"
        },
        "id": "xMjaVCQahwOX",
        "outputId": "dfe8ee05-c264-444a-b41d-2b11fe6b594b"
      },
      "execution_count": 5,
      "outputs": [
        {
          "output_type": "stream",
          "name": "stdout",
          "text": [
            "             User        ISBN              Title  Price  rating  \\\n",
            "0  A39650P2CZUUC9  B000MCKQRS  Cruel and Unusual  22.48       4   \n",
            "1     AFVQZQ8PW0L  B000MCKQRS  Cruel and Unusual  22.48       5   \n",
            "2  A2E9Q3T876TQ6C  B000MCKQRS  Cruel and Unusual  22.48       4   \n",
            "3  A2GBJQ9THOYDAJ  B000MCKQRS  Cruel and Unusual  22.48       4   \n",
            "4   ABWF7YVZAU1QP  B000MCKQRS  Cruel and Unusual  22.48       4   \n",
            "\n",
            "                                         description  \\\n",
            "0  Wanneer er in dit achtste deel in de Kay Scarp...   \n",
            "1  Wanneer er in dit achtste deel in de Kay Scarp...   \n",
            "2  Wanneer er in dit achtste deel in de Kay Scarp...   \n",
            "3  Wanneer er in dit achtste deel in de Kay Scarp...   \n",
            "4  Wanneer er in dit achtste deel in de Kay Scarp...   \n",
            "\n",
            "                                               image          publisher  \\\n",
            "0  http://books.google.com/books/content?id=AgckD...  Luitingh Sijthoff   \n",
            "1  http://books.google.com/books/content?id=AgckD...  Luitingh Sijthoff   \n",
            "2  http://books.google.com/books/content?id=AgckD...  Luitingh Sijthoff   \n",
            "3  http://books.google.com/books/content?id=AgckD...  Luitingh Sijthoff   \n",
            "4  http://books.google.com/books/content?id=AgckD...  Luitingh Sijthoff   \n",
            "\n",
            "   publishedDate                                           infoLink  \\\n",
            "0           1970  https://play.google.com/store/books/details?id...   \n",
            "1           1970  https://play.google.com/store/books/details?id...   \n",
            "2           1970  https://play.google.com/store/books/details?id...   \n",
            "3           1970  https://play.google.com/store/books/details?id...   \n",
            "4           1970  https://play.google.com/store/books/details?id...   \n",
            "\n",
            "  categories  number_of_ratings            authors  \n",
            "0    Fiction                 10  Patricia Cornwell  \n",
            "1    Fiction                 10  Patricia Cornwell  \n",
            "2    Fiction                 10  Patricia Cornwell  \n",
            "3    Fiction                 10  Patricia Cornwell  \n",
            "4    Fiction                 10  Patricia Cornwell  \n"
          ]
        }
      ]
    },
    {
      "cell_type": "code",
      "source": [
        "print(data.isnull().sum())"
      ],
      "metadata": {
        "id": "8cHjKcDgmihM",
        "colab": {
          "base_uri": "https://localhost:8080/"
        },
        "outputId": "8c7cef48-3c36-4910-b7d2-8efc04e4361d"
      },
      "execution_count": 6,
      "outputs": [
        {
          "output_type": "stream",
          "name": "stdout",
          "text": [
            "User                  0\n",
            "ISBN                  0\n",
            "Title                 0\n",
            "Price                 0\n",
            "rating                0\n",
            "description           0\n",
            "image                 0\n",
            "publisher             0\n",
            "publishedDate         0\n",
            "infoLink              0\n",
            "categories            0\n",
            "number_of_ratings     0\n",
            "authors              22\n",
            "dtype: int64\n"
          ]
        }
      ]
    },
    {
      "cell_type": "code",
      "source": [
        "print(data.columns)"
      ],
      "metadata": {
        "colab": {
          "base_uri": "https://localhost:8080/"
        },
        "id": "pOlrR-rNqRRf",
        "outputId": "b1ba7ad9-a2d7-4a26-aed9-929c8263b40b"
      },
      "execution_count": 7,
      "outputs": [
        {
          "output_type": "stream",
          "name": "stdout",
          "text": [
            "Index(['User', 'ISBN', 'Title', 'Price', 'rating', 'description', 'image',\n",
            "       'publisher', 'publishedDate', 'infoLink', 'categories',\n",
            "       'number_of_ratings', 'authors'],\n",
            "      dtype='object')\n"
          ]
        }
      ]
    },
    {
      "cell_type": "code",
      "source": [
        "cdata = data.dropna(subset=['authors'])"
      ],
      "metadata": {
        "id": "WxlAArbirUY6"
      },
      "execution_count": 8,
      "outputs": []
    },
    {
      "cell_type": "code",
      "source": [
        "cdata.head()"
      ],
      "metadata": {
        "colab": {
          "base_uri": "https://localhost:8080/",
          "height": 486
        },
        "id": "taafqqChuo_c",
        "outputId": "d58968f1-3a0d-4fae-a4a4-c902805ae336"
      },
      "execution_count": 9,
      "outputs": [
        {
          "output_type": "execute_result",
          "data": {
            "text/plain": [
              "             User        ISBN              Title  Price  rating  \\\n",
              "0  A39650P2CZUUC9  B000MCKQRS  Cruel and Unusual  22.48       4   \n",
              "1     AFVQZQ8PW0L  B000MCKQRS  Cruel and Unusual  22.48       5   \n",
              "2  A2E9Q3T876TQ6C  B000MCKQRS  Cruel and Unusual  22.48       4   \n",
              "3  A2GBJQ9THOYDAJ  B000MCKQRS  Cruel and Unusual  22.48       4   \n",
              "4   ABWF7YVZAU1QP  B000MCKQRS  Cruel and Unusual  22.48       4   \n",
              "\n",
              "                                         description  \\\n",
              "0  Wanneer er in dit achtste deel in de Kay Scarp...   \n",
              "1  Wanneer er in dit achtste deel in de Kay Scarp...   \n",
              "2  Wanneer er in dit achtste deel in de Kay Scarp...   \n",
              "3  Wanneer er in dit achtste deel in de Kay Scarp...   \n",
              "4  Wanneer er in dit achtste deel in de Kay Scarp...   \n",
              "\n",
              "                                               image          publisher  \\\n",
              "0  http://books.google.com/books/content?id=AgckD...  Luitingh Sijthoff   \n",
              "1  http://books.google.com/books/content?id=AgckD...  Luitingh Sijthoff   \n",
              "2  http://books.google.com/books/content?id=AgckD...  Luitingh Sijthoff   \n",
              "3  http://books.google.com/books/content?id=AgckD...  Luitingh Sijthoff   \n",
              "4  http://books.google.com/books/content?id=AgckD...  Luitingh Sijthoff   \n",
              "\n",
              "   publishedDate                                           infoLink  \\\n",
              "0           1970  https://play.google.com/store/books/details?id...   \n",
              "1           1970  https://play.google.com/store/books/details?id...   \n",
              "2           1970  https://play.google.com/store/books/details?id...   \n",
              "3           1970  https://play.google.com/store/books/details?id...   \n",
              "4           1970  https://play.google.com/store/books/details?id...   \n",
              "\n",
              "  categories  number_of_ratings            authors  \n",
              "0    Fiction                 10  Patricia Cornwell  \n",
              "1    Fiction                 10  Patricia Cornwell  \n",
              "2    Fiction                 10  Patricia Cornwell  \n",
              "3    Fiction                 10  Patricia Cornwell  \n",
              "4    Fiction                 10  Patricia Cornwell  "
            ],
            "text/html": [
              "\n",
              "  <div id=\"df-03dfa5b2-7f19-488a-a4a8-b9c512cc34a2\" class=\"colab-df-container\">\n",
              "    <div>\n",
              "<style scoped>\n",
              "    .dataframe tbody tr th:only-of-type {\n",
              "        vertical-align: middle;\n",
              "    }\n",
              "\n",
              "    .dataframe tbody tr th {\n",
              "        vertical-align: top;\n",
              "    }\n",
              "\n",
              "    .dataframe thead th {\n",
              "        text-align: right;\n",
              "    }\n",
              "</style>\n",
              "<table border=\"1\" class=\"dataframe\">\n",
              "  <thead>\n",
              "    <tr style=\"text-align: right;\">\n",
              "      <th></th>\n",
              "      <th>User</th>\n",
              "      <th>ISBN</th>\n",
              "      <th>Title</th>\n",
              "      <th>Price</th>\n",
              "      <th>rating</th>\n",
              "      <th>description</th>\n",
              "      <th>image</th>\n",
              "      <th>publisher</th>\n",
              "      <th>publishedDate</th>\n",
              "      <th>infoLink</th>\n",
              "      <th>categories</th>\n",
              "      <th>number_of_ratings</th>\n",
              "      <th>authors</th>\n",
              "    </tr>\n",
              "  </thead>\n",
              "  <tbody>\n",
              "    <tr>\n",
              "      <th>0</th>\n",
              "      <td>A39650P2CZUUC9</td>\n",
              "      <td>B000MCKQRS</td>\n",
              "      <td>Cruel and Unusual</td>\n",
              "      <td>22.48</td>\n",
              "      <td>4</td>\n",
              "      <td>Wanneer er in dit achtste deel in de Kay Scarp...</td>\n",
              "      <td>http://books.google.com/books/content?id=AgckD...</td>\n",
              "      <td>Luitingh Sijthoff</td>\n",
              "      <td>1970</td>\n",
              "      <td>https://play.google.com/store/books/details?id...</td>\n",
              "      <td>Fiction</td>\n",
              "      <td>10</td>\n",
              "      <td>Patricia Cornwell</td>\n",
              "    </tr>\n",
              "    <tr>\n",
              "      <th>1</th>\n",
              "      <td>AFVQZQ8PW0L</td>\n",
              "      <td>B000MCKQRS</td>\n",
              "      <td>Cruel and Unusual</td>\n",
              "      <td>22.48</td>\n",
              "      <td>5</td>\n",
              "      <td>Wanneer er in dit achtste deel in de Kay Scarp...</td>\n",
              "      <td>http://books.google.com/books/content?id=AgckD...</td>\n",
              "      <td>Luitingh Sijthoff</td>\n",
              "      <td>1970</td>\n",
              "      <td>https://play.google.com/store/books/details?id...</td>\n",
              "      <td>Fiction</td>\n",
              "      <td>10</td>\n",
              "      <td>Patricia Cornwell</td>\n",
              "    </tr>\n",
              "    <tr>\n",
              "      <th>2</th>\n",
              "      <td>A2E9Q3T876TQ6C</td>\n",
              "      <td>B000MCKQRS</td>\n",
              "      <td>Cruel and Unusual</td>\n",
              "      <td>22.48</td>\n",
              "      <td>4</td>\n",
              "      <td>Wanneer er in dit achtste deel in de Kay Scarp...</td>\n",
              "      <td>http://books.google.com/books/content?id=AgckD...</td>\n",
              "      <td>Luitingh Sijthoff</td>\n",
              "      <td>1970</td>\n",
              "      <td>https://play.google.com/store/books/details?id...</td>\n",
              "      <td>Fiction</td>\n",
              "      <td>10</td>\n",
              "      <td>Patricia Cornwell</td>\n",
              "    </tr>\n",
              "    <tr>\n",
              "      <th>3</th>\n",
              "      <td>A2GBJQ9THOYDAJ</td>\n",
              "      <td>B000MCKQRS</td>\n",
              "      <td>Cruel and Unusual</td>\n",
              "      <td>22.48</td>\n",
              "      <td>4</td>\n",
              "      <td>Wanneer er in dit achtste deel in de Kay Scarp...</td>\n",
              "      <td>http://books.google.com/books/content?id=AgckD...</td>\n",
              "      <td>Luitingh Sijthoff</td>\n",
              "      <td>1970</td>\n",
              "      <td>https://play.google.com/store/books/details?id...</td>\n",
              "      <td>Fiction</td>\n",
              "      <td>10</td>\n",
              "      <td>Patricia Cornwell</td>\n",
              "    </tr>\n",
              "    <tr>\n",
              "      <th>4</th>\n",
              "      <td>ABWF7YVZAU1QP</td>\n",
              "      <td>B000MCKQRS</td>\n",
              "      <td>Cruel and Unusual</td>\n",
              "      <td>22.48</td>\n",
              "      <td>4</td>\n",
              "      <td>Wanneer er in dit achtste deel in de Kay Scarp...</td>\n",
              "      <td>http://books.google.com/books/content?id=AgckD...</td>\n",
              "      <td>Luitingh Sijthoff</td>\n",
              "      <td>1970</td>\n",
              "      <td>https://play.google.com/store/books/details?id...</td>\n",
              "      <td>Fiction</td>\n",
              "      <td>10</td>\n",
              "      <td>Patricia Cornwell</td>\n",
              "    </tr>\n",
              "  </tbody>\n",
              "</table>\n",
              "</div>\n",
              "    <div class=\"colab-df-buttons\">\n",
              "\n",
              "  <div class=\"colab-df-container\">\n",
              "    <button class=\"colab-df-convert\" onclick=\"convertToInteractive('df-03dfa5b2-7f19-488a-a4a8-b9c512cc34a2')\"\n",
              "            title=\"Convert this dataframe to an interactive table.\"\n",
              "            style=\"display:none;\">\n",
              "\n",
              "  <svg xmlns=\"http://www.w3.org/2000/svg\" height=\"24px\" viewBox=\"0 -960 960 960\">\n",
              "    <path d=\"M120-120v-720h720v720H120Zm60-500h600v-160H180v160Zm220 220h160v-160H400v160Zm0 220h160v-160H400v160ZM180-400h160v-160H180v160Zm440 0h160v-160H620v160ZM180-180h160v-160H180v160Zm440 0h160v-160H620v160Z\"/>\n",
              "  </svg>\n",
              "    </button>\n",
              "\n",
              "  <style>\n",
              "    .colab-df-container {\n",
              "      display:flex;\n",
              "      gap: 12px;\n",
              "    }\n",
              "\n",
              "    .colab-df-convert {\n",
              "      background-color: #E8F0FE;\n",
              "      border: none;\n",
              "      border-radius: 50%;\n",
              "      cursor: pointer;\n",
              "      display: none;\n",
              "      fill: #1967D2;\n",
              "      height: 32px;\n",
              "      padding: 0 0 0 0;\n",
              "      width: 32px;\n",
              "    }\n",
              "\n",
              "    .colab-df-convert:hover {\n",
              "      background-color: #E2EBFA;\n",
              "      box-shadow: 0px 1px 2px rgba(60, 64, 67, 0.3), 0px 1px 3px 1px rgba(60, 64, 67, 0.15);\n",
              "      fill: #174EA6;\n",
              "    }\n",
              "\n",
              "    .colab-df-buttons div {\n",
              "      margin-bottom: 4px;\n",
              "    }\n",
              "\n",
              "    [theme=dark] .colab-df-convert {\n",
              "      background-color: #3B4455;\n",
              "      fill: #D2E3FC;\n",
              "    }\n",
              "\n",
              "    [theme=dark] .colab-df-convert:hover {\n",
              "      background-color: #434B5C;\n",
              "      box-shadow: 0px 1px 3px 1px rgba(0, 0, 0, 0.15);\n",
              "      filter: drop-shadow(0px 1px 2px rgba(0, 0, 0, 0.3));\n",
              "      fill: #FFFFFF;\n",
              "    }\n",
              "  </style>\n",
              "\n",
              "    <script>\n",
              "      const buttonEl =\n",
              "        document.querySelector('#df-03dfa5b2-7f19-488a-a4a8-b9c512cc34a2 button.colab-df-convert');\n",
              "      buttonEl.style.display =\n",
              "        google.colab.kernel.accessAllowed ? 'block' : 'none';\n",
              "\n",
              "      async function convertToInteractive(key) {\n",
              "        const element = document.querySelector('#df-03dfa5b2-7f19-488a-a4a8-b9c512cc34a2');\n",
              "        const dataTable =\n",
              "          await google.colab.kernel.invokeFunction('convertToInteractive',\n",
              "                                                    [key], {});\n",
              "        if (!dataTable) return;\n",
              "\n",
              "        const docLinkHtml = 'Like what you see? Visit the ' +\n",
              "          '<a target=\"_blank\" href=https://colab.research.google.com/notebooks/data_table.ipynb>data table notebook</a>'\n",
              "          + ' to learn more about interactive tables.';\n",
              "        element.innerHTML = '';\n",
              "        dataTable['output_type'] = 'display_data';\n",
              "        await google.colab.output.renderOutput(dataTable, element);\n",
              "        const docLink = document.createElement('div');\n",
              "        docLink.innerHTML = docLinkHtml;\n",
              "        element.appendChild(docLink);\n",
              "      }\n",
              "    </script>\n",
              "  </div>\n",
              "\n",
              "\n",
              "<div id=\"df-1ecd4cac-00ad-4f4c-abf9-13c3e6a822c1\">\n",
              "  <button class=\"colab-df-quickchart\" onclick=\"quickchart('df-1ecd4cac-00ad-4f4c-abf9-13c3e6a822c1')\"\n",
              "            title=\"Suggest charts\"\n",
              "            style=\"display:none;\">\n",
              "\n",
              "<svg xmlns=\"http://www.w3.org/2000/svg\" height=\"24px\"viewBox=\"0 0 24 24\"\n",
              "     width=\"24px\">\n",
              "    <g>\n",
              "        <path d=\"M19 3H5c-1.1 0-2 .9-2 2v14c0 1.1.9 2 2 2h14c1.1 0 2-.9 2-2V5c0-1.1-.9-2-2-2zM9 17H7v-7h2v7zm4 0h-2V7h2v10zm4 0h-2v-4h2v4z\"/>\n",
              "    </g>\n",
              "</svg>\n",
              "  </button>\n",
              "\n",
              "<style>\n",
              "  .colab-df-quickchart {\n",
              "      --bg-color: #E8F0FE;\n",
              "      --fill-color: #1967D2;\n",
              "      --hover-bg-color: #E2EBFA;\n",
              "      --hover-fill-color: #174EA6;\n",
              "      --disabled-fill-color: #AAA;\n",
              "      --disabled-bg-color: #DDD;\n",
              "  }\n",
              "\n",
              "  [theme=dark] .colab-df-quickchart {\n",
              "      --bg-color: #3B4455;\n",
              "      --fill-color: #D2E3FC;\n",
              "      --hover-bg-color: #434B5C;\n",
              "      --hover-fill-color: #FFFFFF;\n",
              "      --disabled-bg-color: #3B4455;\n",
              "      --disabled-fill-color: #666;\n",
              "  }\n",
              "\n",
              "  .colab-df-quickchart {\n",
              "    background-color: var(--bg-color);\n",
              "    border: none;\n",
              "    border-radius: 50%;\n",
              "    cursor: pointer;\n",
              "    display: none;\n",
              "    fill: var(--fill-color);\n",
              "    height: 32px;\n",
              "    padding: 0;\n",
              "    width: 32px;\n",
              "  }\n",
              "\n",
              "  .colab-df-quickchart:hover {\n",
              "    background-color: var(--hover-bg-color);\n",
              "    box-shadow: 0 1px 2px rgba(60, 64, 67, 0.3), 0 1px 3px 1px rgba(60, 64, 67, 0.15);\n",
              "    fill: var(--button-hover-fill-color);\n",
              "  }\n",
              "\n",
              "  .colab-df-quickchart-complete:disabled,\n",
              "  .colab-df-quickchart-complete:disabled:hover {\n",
              "    background-color: var(--disabled-bg-color);\n",
              "    fill: var(--disabled-fill-color);\n",
              "    box-shadow: none;\n",
              "  }\n",
              "\n",
              "  .colab-df-spinner {\n",
              "    border: 2px solid var(--fill-color);\n",
              "    border-color: transparent;\n",
              "    border-bottom-color: var(--fill-color);\n",
              "    animation:\n",
              "      spin 1s steps(1) infinite;\n",
              "  }\n",
              "\n",
              "  @keyframes spin {\n",
              "    0% {\n",
              "      border-color: transparent;\n",
              "      border-bottom-color: var(--fill-color);\n",
              "      border-left-color: var(--fill-color);\n",
              "    }\n",
              "    20% {\n",
              "      border-color: transparent;\n",
              "      border-left-color: var(--fill-color);\n",
              "      border-top-color: var(--fill-color);\n",
              "    }\n",
              "    30% {\n",
              "      border-color: transparent;\n",
              "      border-left-color: var(--fill-color);\n",
              "      border-top-color: var(--fill-color);\n",
              "      border-right-color: var(--fill-color);\n",
              "    }\n",
              "    40% {\n",
              "      border-color: transparent;\n",
              "      border-right-color: var(--fill-color);\n",
              "      border-top-color: var(--fill-color);\n",
              "    }\n",
              "    60% {\n",
              "      border-color: transparent;\n",
              "      border-right-color: var(--fill-color);\n",
              "    }\n",
              "    80% {\n",
              "      border-color: transparent;\n",
              "      border-right-color: var(--fill-color);\n",
              "      border-bottom-color: var(--fill-color);\n",
              "    }\n",
              "    90% {\n",
              "      border-color: transparent;\n",
              "      border-bottom-color: var(--fill-color);\n",
              "    }\n",
              "  }\n",
              "</style>\n",
              "\n",
              "  <script>\n",
              "    async function quickchart(key) {\n",
              "      const quickchartButtonEl =\n",
              "        document.querySelector('#' + key + ' button');\n",
              "      quickchartButtonEl.disabled = true;  // To prevent multiple clicks.\n",
              "      quickchartButtonEl.classList.add('colab-df-spinner');\n",
              "      try {\n",
              "        const charts = await google.colab.kernel.invokeFunction(\n",
              "            'suggestCharts', [key], {});\n",
              "      } catch (error) {\n",
              "        console.error('Error during call to suggestCharts:', error);\n",
              "      }\n",
              "      quickchartButtonEl.classList.remove('colab-df-spinner');\n",
              "      quickchartButtonEl.classList.add('colab-df-quickchart-complete');\n",
              "    }\n",
              "    (() => {\n",
              "      let quickchartButtonEl =\n",
              "        document.querySelector('#df-1ecd4cac-00ad-4f4c-abf9-13c3e6a822c1 button');\n",
              "      quickchartButtonEl.style.display =\n",
              "        google.colab.kernel.accessAllowed ? 'block' : 'none';\n",
              "    })();\n",
              "  </script>\n",
              "</div>\n",
              "\n",
              "    </div>\n",
              "  </div>\n"
            ],
            "application/vnd.google.colaboratory.intrinsic+json": {
              "type": "dataframe",
              "variable_name": "cdata",
              "summary": "{\n  \"name\": \"cdata\",\n  \"rows\": 82697,\n  \"fields\": [\n    {\n      \"column\": \"User\",\n      \"properties\": {\n        \"dtype\": \"category\",\n        \"num_unique_values\": 1023,\n        \"samples\": [\n          \"AWEJ5JKD3MQMU\",\n          \"AK0CENM3LUM28\",\n          \"A3KNJ386MRBPZC\"\n        ],\n        \"semantic_type\": \"\",\n        \"description\": \"\"\n      }\n    },\n    {\n      \"column\": \"ISBN\",\n      \"properties\": {\n        \"dtype\": \"category\",\n        \"num_unique_values\": 5670,\n        \"samples\": [\n          \"892966882\",\n          \"B00007K45J\",\n          \"1857151631\"\n        ],\n        \"semantic_type\": \"\",\n        \"description\": \"\"\n      }\n    },\n    {\n      \"column\": \"Title\",\n      \"properties\": {\n        \"dtype\": \"category\",\n        \"num_unique_values\": 5670,\n        \"samples\": [\n          \"A Walk Through the Fire\",\n          \"Bush at War\",\n          \"Daniel Deronda\"\n        ],\n        \"semantic_type\": \"\",\n        \"description\": \"\"\n      }\n    },\n    {\n      \"column\": \"Price\",\n      \"properties\": {\n        \"dtype\": \"number\",\n        \"std\": 14.817664297725752,\n        \"min\": 1.35,\n        \"max\": 360.0,\n        \"num_unique_values\": 3188,\n        \"samples\": [\n          26.0,\n          30.62,\n          6.3\n        ],\n        \"semantic_type\": \"\",\n        \"description\": \"\"\n      }\n    },\n    {\n      \"column\": \"rating\",\n      \"properties\": {\n        \"dtype\": \"number\",\n        \"std\": 0,\n        \"min\": 1,\n        \"max\": 5,\n        \"num_unique_values\": 5,\n        \"samples\": [\n          5,\n          1,\n          3\n        ],\n        \"semantic_type\": \"\",\n        \"description\": \"\"\n      }\n    },\n    {\n      \"column\": \"description\",\n      \"properties\": {\n        \"dtype\": \"category\",\n        \"num_unique_values\": 5234,\n        \"samples\": [\n          \"Using research in neurobiology, cognitive science and learning theory, this text loads patterns into your brain in a way that lets you put them to work immediately, makes you better at solving software design problems, and improves your ability to speak the language of patterns with others on your team.\",\n          \"In this pair of literary voyages into the inner self, Conrad wrote two of the most chilling, disturbing, and noteworthy pieces of fiction of the 20th century. \\\"Heart of Darkness\\\" and \\\"The Secret Sharer\\\" encapsulate his literary achievements--and his haunting portrayal of the dark side of man. Revised reissue.\",\n          \"Michael Marshall's unique voice adds a chilling intensity to the serial-killer plot, combining dazzling narrative, a white-hot pace and a deeply disturbing backdrop of conspiracy.\"\n        ],\n        \"semantic_type\": \"\",\n        \"description\": \"\"\n      }\n    },\n    {\n      \"column\": \"image\",\n      \"properties\": {\n        \"dtype\": \"category\",\n        \"num_unique_values\": 5263,\n        \"samples\": [\n          \"http://books.google.com/books/content?id=ER6BqLHOmO4C&printsec=frontcover&img=1&zoom=1&edge=curl&source=gbs_api\",\n          \"http://books.google.com/books/content?id=Z5AcAAAACAAJ&printsec=frontcover&img=1&zoom=1&source=gbs_api\",\n          \"http://books.google.com/books/content?id=Mmd9cE9YOrcC&printsec=frontcover&img=1&zoom=1&edge=curl&source=gbs_api\"\n        ],\n        \"semantic_type\": \"\",\n        \"description\": \"\"\n      }\n    },\n    {\n      \"column\": \"publisher\",\n      \"properties\": {\n        \"dtype\": \"category\",\n        \"num_unique_values\": 1020,\n        \"samples\": [\n          \"Ace\",\n          \"Ivan R Dee\",\n          \"Soho Press\"\n        ],\n        \"semantic_type\": \"\",\n        \"description\": \"\"\n      }\n    },\n    {\n      \"column\": \"publishedDate\",\n      \"properties\": {\n        \"dtype\": \"number\",\n        \"std\": 1,\n        \"min\": 1837,\n        \"max\": 2011,\n        \"num_unique_values\": 5,\n        \"samples\": [\n          1986,\n          2011,\n          1837\n        ],\n        \"semantic_type\": \"\",\n        \"description\": \"\"\n      }\n    },\n    {\n      \"column\": \"infoLink\",\n      \"properties\": {\n        \"dtype\": \"category\",\n        \"num_unique_values\": 5610,\n        \"samples\": [\n          \"http://books.google.com/books?id=WvGkac3JvhkC&dq=Naked+in+Death&hl=&source=gbs_api\",\n          \"https://play.google.com/store/books/details?id=oS-BDwAAQBAJ&source=gbs_api\",\n          \"https://play.google.com/store/books/details?id=82saAwAAQBAJ&source=gbs_api\"\n        ],\n        \"semantic_type\": \"\",\n        \"description\": \"\"\n      }\n    },\n    {\n      \"column\": \"categories\",\n      \"properties\": {\n        \"dtype\": \"category\",\n        \"num_unique_values\": 256,\n        \"samples\": [\n          \"English language\",\n          \"Political Science\",\n          \"Courage\"\n        ],\n        \"semantic_type\": \"\",\n        \"description\": \"\"\n      }\n    },\n    {\n      \"column\": \"number_of_ratings\",\n      \"properties\": {\n        \"dtype\": \"number\",\n        \"std\": 62,\n        \"min\": 1,\n        \"max\": 531,\n        \"num_unique_values\": 119,\n        \"samples\": [\n          36,\n          104,\n          13\n        ],\n        \"semantic_type\": \"\",\n        \"description\": \"\"\n      }\n    },\n    {\n      \"column\": \"authors\",\n      \"properties\": {\n        \"dtype\": \"category\",\n        \"num_unique_values\": 3691,\n        \"samples\": [\n          \"Patricia C. Wrede\",\n          \"Peter Trew\",\n          \"Robert Burns\"\n        ],\n        \"semantic_type\": \"\",\n        \"description\": \"\"\n      }\n    }\n  ]\n}"
            }
          },
          "metadata": {},
          "execution_count": 9
        }
      ]
    },
    {
      "cell_type": "code",
      "source": [
        "# Check for remaining null values in any other column\n",
        "print(cdata.isnull().sum())"
      ],
      "metadata": {
        "colab": {
          "base_uri": "https://localhost:8080/"
        },
        "id": "lDswTRf-urwO",
        "outputId": "4e2bdfa1-c06b-4c1b-a7e7-d2519e06a3f9"
      },
      "execution_count": 10,
      "outputs": [
        {
          "output_type": "stream",
          "name": "stdout",
          "text": [
            "User                 0\n",
            "ISBN                 0\n",
            "Title                0\n",
            "Price                0\n",
            "rating               0\n",
            "description          0\n",
            "image                0\n",
            "publisher            0\n",
            "publishedDate        0\n",
            "infoLink             0\n",
            "categories           0\n",
            "number_of_ratings    0\n",
            "authors              0\n",
            "dtype: int64\n"
          ]
        }
      ]
    },
    {
      "cell_type": "code",
      "source": [
        "# Load the data (use load_from_df instead of load_from_cdata)\n",
        "reader = Reader(rating_scale=(1, 5))\n",
        "data_df = Dataset.load_from_df(data[['User', 'ISBN', 'rating']], reader)"
      ],
      "metadata": {
        "id": "Y8vRxPXou1X6"
      },
      "execution_count": 11,
      "outputs": []
    },
    {
      "cell_type": "code",
      "source": [
        "# Split the data into train and test sets\n",
        "trainset, testset = train_test_split(data_df, test_size=0.25)"
      ],
      "metadata": {
        "id": "DoJLHwmkxYZO"
      },
      "execution_count": 12,
      "outputs": []
    },
    {
      "cell_type": "code",
      "source": [
        "# Train the SVD model\n",
        "model = SVD() #initialize the SVD model (Singular Value Decomposition)\n",
        "model.fit(trainset) #train the model"
      ],
      "metadata": {
        "colab": {
          "base_uri": "https://localhost:8080/"
        },
        "id": "Mz7zD1iy4j1o",
        "outputId": "4c6ab28d-523f-46de-e079-a7087b006714"
      },
      "execution_count": 13,
      "outputs": [
        {
          "output_type": "execute_result",
          "data": {
            "text/plain": [
              "<surprise.prediction_algorithms.matrix_factorization.SVD at 0x7d1efaae73d0>"
            ]
          },
          "metadata": {},
          "execution_count": 13
        }
      ]
    },
    {
      "cell_type": "code",
      "source": [
        "# Predict the ratings for the test set\n",
        "predictions = model.test(testset)"
      ],
      "metadata": {
        "id": "0ZPiqL26BhAA"
      },
      "execution_count": 14,
      "outputs": []
    },
    {
      "cell_type": "code",
      "source": [
        "# Evaluate the accuracy of the model\n",
        "accuracy.rmse(predictions)"
      ],
      "metadata": {
        "colab": {
          "base_uri": "https://localhost:8080/"
        },
        "id": "07yOcbfuBlFe",
        "outputId": "c7cf6e77-14d2-4723-d00e-5a3065f30717"
      },
      "execution_count": 15,
      "outputs": [
        {
          "output_type": "stream",
          "name": "stdout",
          "text": [
            "RMSE: 0.7751\n"
          ]
        },
        {
          "output_type": "execute_result",
          "data": {
            "text/plain": [
              "0.7751231886526112"
            ]
          },
          "metadata": {},
          "execution_count": 15
        }
      ]
    },
    {
      "cell_type": "code",
      "source": [
        "# Function to predict the rating for a specific user and book\n",
        "def predict_rating(user_id, book_isbn):\n",
        "    return model.predict(user_id, book_isbn)"
      ],
      "metadata": {
        "id": "6na1vAeeHJ_R"
      },
      "execution_count": 16,
      "outputs": []
    },
    {
      "cell_type": "code",
      "source": [
        "# Check training completion\n",
        "print(\"Collaborative Filtering model has been trained!\")"
      ],
      "metadata": {
        "colab": {
          "base_uri": "https://localhost:8080/"
        },
        "id": "PvgUHThd_dZQ",
        "outputId": "995b2701-6f87-4d14-b8de-2d81446c7088"
      },
      "execution_count": 17,
      "outputs": [
        {
          "output_type": "stream",
          "name": "stdout",
          "text": [
            "Collaborative Filtering model has been trained!\n"
          ]
        }
      ]
    },
    {
      "cell_type": "code",
      "source": [
        "#Content based filtering\n",
        "# Download NLTK stopwords (if not already downloaded)\n",
        "nltk.download('stopwords')"
      ],
      "metadata": {
        "colab": {
          "base_uri": "https://localhost:8080/"
        },
        "id": "O6pZ0m41PLto",
        "outputId": "bb112b05-d20c-4f74-f241-d7f0830ba269"
      },
      "execution_count": 18,
      "outputs": [
        {
          "output_type": "stream",
          "name": "stderr",
          "text": [
            "[nltk_data] Downloading package stopwords to /root/nltk_data...\n",
            "[nltk_data]   Package stopwords is already up-to-date!\n"
          ]
        },
        {
          "output_type": "execute_result",
          "data": {
            "text/plain": [
              "True"
            ]
          },
          "metadata": {},
          "execution_count": 18
        }
      ]
    },
    {
      "cell_type": "code",
      "source": [
        "# Function to tokenize the description\n",
        "def tokenized_description(description):\n",
        "\n",
        "    # Remove special characters and numbers\n",
        "    description = re.sub(r'[^a-zA-Z\\s]', '', description)\n",
        "\n",
        "    #tokenize and remove stopwords\n",
        "    tokens=description.split()\n",
        "    stop_words = set(stopwords.words('english'))\n",
        "    tokens=[word for word in tokens if word not in stop_words]\n",
        "\n",
        "    #join the tokens back to form a cleaned string\n",
        "    return ''.join(tokens)"
      ],
      "metadata": {
        "id": "MZr17rt8PNwO"
      },
      "execution_count": 19,
      "outputs": []
    },
    {
      "cell_type": "code",
      "source": [
        "#applying tokenizing to the 'description' column\n",
        "cdata['tokenized_description']=cdata['description'].fillna('').apply(tokenized_description)"
      ],
      "metadata": {
        "colab": {
          "base_uri": "https://localhost:8080/"
        },
        "id": "-d_RsYvxQlgA",
        "outputId": "57e3e7da-dec7-435b-f612-ac8fe0d7517b"
      },
      "execution_count": 20,
      "outputs": [
        {
          "output_type": "stream",
          "name": "stderr",
          "text": [
            "<ipython-input-20-1fa58a8b57ba>:2: SettingWithCopyWarning: \n",
            "A value is trying to be set on a copy of a slice from a DataFrame.\n",
            "Try using .loc[row_indexer,col_indexer] = value instead\n",
            "\n",
            "See the caveats in the documentation: https://pandas.pydata.org/pandas-docs/stable/user_guide/indexing.html#returning-a-view-versus-a-copy\n",
            "  cdata['tokenized_description']=cdata['description'].fillna('').apply(tokenized_description)\n"
          ]
        }
      ]
    },
    {
      "cell_type": "code",
      "source": [
        "#Combine 'categories', 'authors', and 'cleaned_description' to form a new 'content' column\n",
        "cdata['content'] = (cdata['categories'].fillna('') + ' ' +\n",
        "                       cdata['authors'].fillna('') + ' ' +\n",
        "                       cdata['tokenized_description'].fillna(''))"
      ],
      "metadata": {
        "colab": {
          "base_uri": "https://localhost:8080/"
        },
        "id": "INoXkg7hQ_k8",
        "outputId": "19871aff-01b1-4ed3-de91-ce66cb638bad"
      },
      "execution_count": 21,
      "outputs": [
        {
          "output_type": "stream",
          "name": "stderr",
          "text": [
            "<ipython-input-21-82ae99af0efe>:2: SettingWithCopyWarning: \n",
            "A value is trying to be set on a copy of a slice from a DataFrame.\n",
            "Try using .loc[row_indexer,col_indexer] = value instead\n",
            "\n",
            "See the caveats in the documentation: https://pandas.pydata.org/pandas-docs/stable/user_guide/indexing.html#returning-a-view-versus-a-copy\n",
            "  cdata['content'] = (cdata['categories'].fillna('') + ' ' +\n"
          ]
        }
      ]
    },
    {
      "cell_type": "code",
      "source": [
        "# Use TF-IDF Vectorizer to vectorize the combined 'content' column\n",
        "tfidf = TfidfVectorizer(stop_words='english')\n",
        "tfidf_matrix = tfidf.fit_transform(cdata['content'])"
      ],
      "metadata": {
        "id": "Y3qbEC8NRfJ_"
      },
      "execution_count": 22,
      "outputs": []
    },
    {
      "cell_type": "code",
      "source": [
        "# Compute the cosine similarity matrix\n",
        "cosine_sim = linear_kernel(tfidf_matrix, tfidf_matrix)"
      ],
      "metadata": {
        "id": "XkLEkJq9RiXS"
      },
      "execution_count": null,
      "outputs": []
    },
    {
      "cell_type": "code",
      "source": [
        "# Function to get recommendations based on a book title\n",
        "def get_recommendations(title, cosine_sim=cosine_sim):\n",
        "    # Get the index of the book that matches the title\n",
        "    idx = cdata[cdata['Title'] == title].index[0]\n",
        "\n",
        "    # Get the pairwise similarity scores of all books with the given book\n",
        "    sim_scores = list(enumerate(cosine_sim[idx]))\n",
        "\n",
        "    # Sort the books based on similarity scores\n",
        "    sim_scores = sorted(sim_scores, key=lambda x: x[1], reverse=True)\n",
        "\n",
        "    # Get the indices of the 10 most similar books\n",
        "    sim_scores = sim_scores[1:11]  # Skip the first one as it's the same book\n",
        "    book_indices = [i[0] for i in sim_scores]\n",
        "\n",
        "    # Return the top 10 most similar books\n",
        "    return cdata['Title'].iloc[book_indices]"
      ],
      "metadata": {
        "id": "da8UkKqARonP"
      },
      "execution_count": null,
      "outputs": []
    },
    {
      "cell_type": "code",
      "source": [
        "# Test the function with a sample book title\n",
        "recommended_books = get_recommendations('Some Book Title')\n",
        "print(\"Recommended Books:\")\n",
        "print(recommended_books)"
      ],
      "metadata": {
        "id": "W-NuLWOqR60P"
      },
      "execution_count": null,
      "outputs": []
    }
  ]
}